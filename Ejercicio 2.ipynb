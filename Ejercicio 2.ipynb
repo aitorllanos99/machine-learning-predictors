{
 "cells": [
  {
   "cell_type": "code",
   "execution_count": 64,
   "id": "d759adc3",
   "metadata": {},
   "outputs": [],
   "source": [
    "# importar las librerías necesarias\n",
    "import pandas as pd\n",
    "import matplotlib.pyplot as plt\n",
    "from sklearn.ensemble import RandomForestClassifier\n",
    "from sklearn.model_selection import train_test_split\n",
    "from sklearn.preprocessing import OneHotEncoder\n",
    "from sklearn.compose import ColumnTransformer\n",
    "from sklearn.metrics import confusion_matrix, roc_auc_score"
   ]
  },
  {
   "cell_type": "code",
   "execution_count": 65,
   "id": "623ebab3",
   "metadata": {},
   "outputs": [],
   "source": [
    "# cargar los datos del conjunto de entrenamiento y el conjunto de validación\n",
    "df_train_original = pd.read_csv(\"data/dataset_marketing_train.csv\")\n",
    "df_val_original = pd.read_csv(\"data/dataset_marketing_test.csv\")"
   ]
  },
  {
   "cell_type": "code",
   "execution_count": 66,
   "id": "4a949740",
   "metadata": {},
   "outputs": [],
   "source": [
    "# Convierte las variables categóricas en variables numéricas con una codificación one-hot\n",
    "df_train_val = pd.concat([df_train_original, df_val_original])\n",
    "df_train_val = pd.get_dummies(df_train_val, columns=[\"empleo\", \"estado\", \"educacion\", \"impago\", \"hipoteca\", \"prestamo\", \"tipo_contacto\", \"mes\", \"dia_semana\", \"resultado_anterior\"])\n",
    "\n",
    "# Elimina las filas con valores nulos\n",
    "df_train_val = df_train_val.dropna()\n",
    "\n",
    "# Separa el conjunto de datos de entrenamiento y el conjunto de datos de validación\n",
    "df_train = df_train_val.iloc[:len(df_train)]\n",
    "df_val = df_train_val.iloc[len(df_train):]\n"
   ]
  },
  {
   "cell_type": "code",
   "execution_count": 67,
   "id": "e3e31ca4",
   "metadata": {},
   "outputs": [],
   "source": [
    "# seleccionar las características y la variable objetivo\n",
    "X_train = df_train.drop(\"target\", axis=1)\n",
    "y_train = df_train[\"target\"]\n",
    "X_val = df_val.drop(\"target\", axis=1)\n",
    "y_val = df_val[\"target\"]\n"
   ]
  },
  {
   "cell_type": "code",
   "execution_count": 68,
   "id": "2a288f13",
   "metadata": {},
   "outputs": [
    {
     "data": {
      "text/html": [
       "<style>#sk-container-id-3 {color: black;background-color: white;}#sk-container-id-3 pre{padding: 0;}#sk-container-id-3 div.sk-toggleable {background-color: white;}#sk-container-id-3 label.sk-toggleable__label {cursor: pointer;display: block;width: 100%;margin-bottom: 0;padding: 0.3em;box-sizing: border-box;text-align: center;}#sk-container-id-3 label.sk-toggleable__label-arrow:before {content: \"▸\";float: left;margin-right: 0.25em;color: #696969;}#sk-container-id-3 label.sk-toggleable__label-arrow:hover:before {color: black;}#sk-container-id-3 div.sk-estimator:hover label.sk-toggleable__label-arrow:before {color: black;}#sk-container-id-3 div.sk-toggleable__content {max-height: 0;max-width: 0;overflow: hidden;text-align: left;background-color: #f0f8ff;}#sk-container-id-3 div.sk-toggleable__content pre {margin: 0.2em;color: black;border-radius: 0.25em;background-color: #f0f8ff;}#sk-container-id-3 input.sk-toggleable__control:checked~div.sk-toggleable__content {max-height: 200px;max-width: 100%;overflow: auto;}#sk-container-id-3 input.sk-toggleable__control:checked~label.sk-toggleable__label-arrow:before {content: \"▾\";}#sk-container-id-3 div.sk-estimator input.sk-toggleable__control:checked~label.sk-toggleable__label {background-color: #d4ebff;}#sk-container-id-3 div.sk-label input.sk-toggleable__control:checked~label.sk-toggleable__label {background-color: #d4ebff;}#sk-container-id-3 input.sk-hidden--visually {border: 0;clip: rect(1px 1px 1px 1px);clip: rect(1px, 1px, 1px, 1px);height: 1px;margin: -1px;overflow: hidden;padding: 0;position: absolute;width: 1px;}#sk-container-id-3 div.sk-estimator {font-family: monospace;background-color: #f0f8ff;border: 1px dotted black;border-radius: 0.25em;box-sizing: border-box;margin-bottom: 0.5em;}#sk-container-id-3 div.sk-estimator:hover {background-color: #d4ebff;}#sk-container-id-3 div.sk-parallel-item::after {content: \"\";width: 100%;border-bottom: 1px solid gray;flex-grow: 1;}#sk-container-id-3 div.sk-label:hover label.sk-toggleable__label {background-color: #d4ebff;}#sk-container-id-3 div.sk-serial::before {content: \"\";position: absolute;border-left: 1px solid gray;box-sizing: border-box;top: 0;bottom: 0;left: 50%;z-index: 0;}#sk-container-id-3 div.sk-serial {display: flex;flex-direction: column;align-items: center;background-color: white;padding-right: 0.2em;padding-left: 0.2em;position: relative;}#sk-container-id-3 div.sk-item {position: relative;z-index: 1;}#sk-container-id-3 div.sk-parallel {display: flex;align-items: stretch;justify-content: center;background-color: white;position: relative;}#sk-container-id-3 div.sk-item::before, #sk-container-id-3 div.sk-parallel-item::before {content: \"\";position: absolute;border-left: 1px solid gray;box-sizing: border-box;top: 0;bottom: 0;left: 50%;z-index: -1;}#sk-container-id-3 div.sk-parallel-item {display: flex;flex-direction: column;z-index: 1;position: relative;background-color: white;}#sk-container-id-3 div.sk-parallel-item:first-child::after {align-self: flex-end;width: 50%;}#sk-container-id-3 div.sk-parallel-item:last-child::after {align-self: flex-start;width: 50%;}#sk-container-id-3 div.sk-parallel-item:only-child::after {width: 0;}#sk-container-id-3 div.sk-dashed-wrapped {border: 1px dashed gray;margin: 0 0.4em 0.5em 0.4em;box-sizing: border-box;padding-bottom: 0.4em;background-color: white;}#sk-container-id-3 div.sk-label label {font-family: monospace;font-weight: bold;display: inline-block;line-height: 1.2em;}#sk-container-id-3 div.sk-label-container {text-align: center;}#sk-container-id-3 div.sk-container {/* jupyter's `normalize.less` sets `[hidden] { display: none; }` but bootstrap.min.css set `[hidden] { display: none !important; }` so we also need the `!important` here to be able to override the default hidden behavior on the sphinx rendered scikit-learn.org. See: https://github.com/scikit-learn/scikit-learn/issues/21755 */display: inline-block !important;position: relative;}#sk-container-id-3 div.sk-text-repr-fallback {display: none;}</style><div id=\"sk-container-id-3\" class=\"sk-top-container\"><div class=\"sk-text-repr-fallback\"><pre>RandomForestClassifier(random_state=42)</pre><b>In a Jupyter environment, please rerun this cell to show the HTML representation or trust the notebook. <br />On GitHub, the HTML representation is unable to render, please try loading this page with nbviewer.org.</b></div><div class=\"sk-container\" hidden><div class=\"sk-item\"><div class=\"sk-estimator sk-toggleable\"><input class=\"sk-toggleable__control sk-hidden--visually\" id=\"sk-estimator-id-3\" type=\"checkbox\" checked><label for=\"sk-estimator-id-3\" class=\"sk-toggleable__label sk-toggleable__label-arrow\">RandomForestClassifier</label><div class=\"sk-toggleable__content\"><pre>RandomForestClassifier(random_state=42)</pre></div></div></div></div></div>"
      ],
      "text/plain": [
       "RandomForestClassifier(random_state=42)"
      ]
     },
     "execution_count": 68,
     "metadata": {},
     "output_type": "execute_result"
    }
   ],
   "source": [
    "# crear y entrenar el modelo de aprendizaje automático\n",
    "model = RandomForestClassifier(random_state=42)\n",
    "model.fit(X_train, y_train)"
   ]
  },
  {
   "cell_type": "code",
   "execution_count": 69,
   "id": "61512fc7",
   "metadata": {},
   "outputs": [
    {
     "name": "stdout",
     "output_type": "stream",
     "text": [
      "Precisión en el conjunto de validación: 0.94\n"
     ]
    }
   ],
   "source": [
    "# evaluar el modelo en el conjunto de validación\n",
    "y_pred = model.predict(X_val)\n",
    "accuracy = (y_pred == y_val).mean()\n",
    "print(f\"Precisión en el conjunto de validación: {accuracy:.2f}\")"
   ]
  },
  {
   "cell_type": "code",
   "execution_count": 70,
   "id": "d632893f",
   "metadata": {},
   "outputs": [
    {
     "data": {
      "image/png": "[encoded data removed]",
      "text/plain": [
       "<Figure size 640x480 with 1 Axes>"
      ]
     },
     "metadata": {},
     "output_type": "display_data"
    }
   ],
   "source": [
    "# representación gráficamente la distribución de la variable objetivo en el conjunto de entrenamiento\n",
    "counts = df_train[\"target\"].value_counts()\n",
    "plt.bar(counts.index, counts)\n",
    "plt.xticks(counts.index, [\"No\", \"Sí\"])\n",
    "plt.ylabel(\"Frecuencia\")\n",
    "plt.title(\"Distribución de la variable objetivo en el conjunto de entrenamiento\")\n",
    "plt.show()"
   ]
  },
  {
   "cell_type": "code",
   "execution_count": 71,
   "id": "61bfe218",
   "metadata": {},
   "outputs": [
    {
     "name": "stdout",
     "output_type": "stream",
     "text": [
      "Tasa de conversión en el conjunto de entrenamiento: 0.12\n",
      "Tasa de conversión en el conjunto de validación: 0.08\n"
     ]
    }
   ],
   "source": [
    "# Selecciona la variable objetivo\n",
    "y_train = df_train[\"target\"]\n",
    "y_val = df_val[\"target\"]\n",
    "\n",
    "# Cuenta el número de conversiones en cada conjunto de datos\n",
    "n_conversions_train = (y_train == \"yes\").sum()\n",
    "n_conversions_val = (y_val == \"yes\").sum()\n",
    "\n",
    "# Cuenta el número total de contactos en cada conjunto de datos\n",
    "n_contacts_train = len(y_train)\n",
    "n_contacts_val = len(y_val)\n",
    "\n",
    "# Calcula la tasa de conversión de cada conjunto de datos\n",
    "conversion_rate_train = n_conversions_train / n_contacts_train\n",
    "conversion_rate_val = n_conversions_val / n_contacts_val\n",
    "\n",
    "# Imprime los resultados\n",
    "print(f\"Tasa de conversión en el conjunto de entrenamiento: {conversion_rate_train:.2f}\")\n",
    "print(f\"Tasa de conversión en el conjunto de validación: {conversion_rate_val:.2f}\")\n"
   ]
  },
  {
   "cell_type": "code",
   "execution_count": 72,
   "id": "9e6a7c2e",
   "metadata": {},
   "outputs": [
    {
     "name": "stdout",
     "output_type": "stream",
     "text": [
      "mes\n",
      "apr    0.204787\n",
      "aug    0.089992\n",
      "dec    0.489011\n",
      "jul    0.068920\n",
      "jun    0.088819\n",
      "mar    0.505495\n",
      "may    0.107559\n",
      "nov    0.101439\n",
      "oct    0.438719\n",
      "sep    0.449123\n",
      "Name: target, dtype: float64\n",
      "dia_semana\n",
      "fri    0.118641\n",
      "mon    0.105444\n",
      "thu    0.128184\n",
      "tue    0.132118\n",
      "wed    0.128735\n",
      "Name: target, dtype: float64\n"
     ]
    }
   ],
   "source": [
    "# Agrupamos los datos por las variables mes y dia_semana\n",
    "df_grouped_month = df_train_original.groupby([\"mes\"])\n",
    "df_grouped_week = df_train_original.groupby([\"dia_semana\"])\n",
    "\n",
    "# Calculamos el ratio de conversión por mes\n",
    "conversion_rates_month = df_grouped_month[\"target\"].apply(lambda x: (x == \"yes\").sum() / len(x))\n",
    "conversion_rates_week = df_grouped_week[\"target\"].apply(lambda x: (x == \"yes\").sum() / len(x))\n",
    "\n",
    "# Imprime los resultados\n",
    "print(conversion_rates_month)\n",
    "print(conversion_rates_week)"
   ]
  },
  {
   "cell_type": "code",
   "execution_count": 73,
   "id": "bdc7ca6e",
   "metadata": {},
   "outputs": [
    {
     "name": "stdout",
     "output_type": "stream",
     "text": [
      "Matriz de confusión en el conjunto de validación:\n",
      "[[7812   81]\n",
      " [ 417  226]]\n"
     ]
    }
   ],
   "source": [
    "# calcular la matriz de confusión en el conjunto de validación\n",
    "confusion_matrix = confusion_matrix(y_val, y_pred)\n",
    "print(f\"Matriz de confusión en el conjunto de validación:\\n{confusion_matrix}\")"
   ]
  },
  {
   "cell_type": "code",
   "execution_count": 74,
   "id": "b5389adb",
   "metadata": {},
   "outputs": [
    {
     "name": "stdout",
     "output_type": "stream",
     "text": [
      "       edad       empleo            educacion   impago hipoteca prestamo  \\\n",
      "0        26   management    university.degree       no       no       no   \n",
      "1        42   technician  professional.course  unknown       no       no   \n",
      "2        30       admin.    university.degree       no       no       no   \n",
      "3        55   technician             basic.9y       no       no       no   \n",
      "4        41  blue-collar             basic.4y       no      yes       no   \n",
      "...     ...          ...                  ...      ...      ...      ...   \n",
      "32647    73      retired  professional.course       no      yes       no   \n",
      "32648    46  blue-collar  professional.course       no       no       no   \n",
      "32649    56      retired    university.degree       no      yes       no   \n",
      "32650    44   technician  professional.course       no       no       no   \n",
      "32651    74      retired  professional.course       no      yes       no   \n",
      "\n",
      "      tipo_contacto  mes dia_semana  contactos_actual  ...  euribor_3m  \\\n",
      "0         telephone  jun        mon                 3  ...       4.865   \n",
      "1         telephone  jun        mon                 9  ...       4.865   \n",
      "2         telephone  jun        mon                 2  ...       4.865   \n",
      "3         telephone  jun        mon                 3  ...       4.865   \n",
      "4         telephone  jun        mon                 2  ...       4.865   \n",
      "...             ...  ...        ...               ...  ...         ...   \n",
      "32647      cellular  nov        fri                 1  ...       1.028   \n",
      "32648      cellular  nov        fri                 1  ...       1.028   \n",
      "32649      cellular  nov        fri                 2  ...       1.028   \n",
      "32650      cellular  nov        fri                 1  ...       1.028   \n",
      "32651      cellular  nov        fri                 3  ...       1.028   \n",
      "\n",
      "       ipc_1m  target  estado_divorced estado_married  estado_single  \\\n",
      "0      94.465      no                0              0              1   \n",
      "1      94.465      no                0              1              0   \n",
      "2      94.465      no                0              1              0   \n",
      "3      94.465      no                0              1              0   \n",
      "4      94.465      no                0              1              0   \n",
      "...       ...     ...              ...            ...            ...   \n",
      "32647  94.767     yes                0              1              0   \n",
      "32648  94.767      no                0              1              0   \n",
      "32649  94.767      no                0              1              0   \n",
      "32650  94.767     yes                0              1              0   \n",
      "32651  94.767      no                0              1              0   \n",
      "\n",
      "       estado_unknown  resultado_anterior_failure  \\\n",
      "0                   0                           0   \n",
      "1                   0                           0   \n",
      "2                   0                           0   \n",
      "3                   0                           0   \n",
      "4                   0                           0   \n",
      "...               ...                         ...   \n",
      "32647               0                           0   \n",
      "32648               0                           0   \n",
      "32649               0                           0   \n",
      "32650               0                           0   \n",
      "32651               0                           1   \n",
      "\n",
      "       resultado_anterior_nonexistent  resultado_anterior_success  \n",
      "0                                   1                           0  \n",
      "1                                   1                           0  \n",
      "2                                   1                           0  \n",
      "3                                   1                           0  \n",
      "4                                   1                           0  \n",
      "...                               ...                         ...  \n",
      "32647                               1                           0  \n",
      "32648                               1                           0  \n",
      "32649                               1                           0  \n",
      "32650                               1                           0  \n",
      "32651                               0                           0  \n",
      "\n",
      "[32652 rows x 22 columns]\n",
      "      edad       empleo          educacion   impago hipoteca prestamo  \\\n",
      "0       56    housemaid           basic.4y       no       no       no   \n",
      "1       57     services        high.school  unknown       no       no   \n",
      "2       37     services        high.school       no      yes       no   \n",
      "3       40       admin.           basic.6y       no       no       no   \n",
      "4       56     services        high.school       no       no      yes   \n",
      "...    ...          ...                ...      ...      ...      ...   \n",
      "8531    56      retired  university.degree       no       no       no   \n",
      "8532    58      retired           basic.4y       no       no       no   \n",
      "8533    34  blue-collar           basic.9y       no      yes       no   \n",
      "8534    44       admin.        high.school       no      yes       no   \n",
      "8535    27       admin.  university.degree       no      yes       no   \n",
      "\n",
      "     tipo_contacto  mes dia_semana  contactos_actual  ...  euribor_3m  ipc_1m  \\\n",
      "0        telephone  may        mon                 1  ...       4.857  93.994   \n",
      "1        telephone  may        mon                 1  ...       4.857  93.994   \n",
      "2        telephone  may        mon                 1  ...       4.857  93.994   \n",
      "3        telephone  may        mon                 1  ...       4.857  93.994   \n",
      "4        telephone  may        mon                 1  ...       4.857  93.994   \n",
      "...            ...  ...        ...               ...  ...         ...     ...   \n",
      "8531      cellular  aug        tue                 3  ...       0.886  94.027   \n",
      "8532     telephone  aug        tue                 1  ...       0.886  94.027   \n",
      "8533      cellular  aug        tue                 2  ...       0.886  94.027   \n",
      "8534     telephone  aug        tue                 1  ...       0.886  94.027   \n",
      "8535      cellular  aug        tue                 5  ...       0.886  94.027   \n",
      "\n",
      "      target  estado_divorced estado_married  estado_single  estado_unknown  \\\n",
      "0         no                0              1              0               0   \n",
      "1         no                0              1              0               0   \n",
      "2         no                0              1              0               0   \n",
      "3         no                0              1              0               0   \n",
      "4         no                0              1              0               0   \n",
      "...      ...              ...            ...            ...             ...   \n",
      "8531     yes                0              1              0               0   \n",
      "8532      no                1              0              0               0   \n",
      "8533      no                0              1              0               0   \n",
      "8534      no                0              0              1               0   \n",
      "8535     yes                0              1              0               0   \n",
      "\n",
      "      resultado_anterior_failure  resultado_anterior_nonexistent  \\\n",
      "0                              0                               1   \n",
      "1                              0                               1   \n",
      "2                              0                               1   \n",
      "3                              0                               1   \n",
      "4                              0                               1   \n",
      "...                          ...                             ...   \n",
      "8531                           1                               0   \n",
      "8532                           0                               1   \n",
      "8533                           0                               1   \n",
      "8534                           0                               1   \n",
      "8535                           0                               0   \n",
      "\n",
      "      resultado_anterior_success  \n",
      "0                              0  \n",
      "1                              0  \n",
      "2                              0  \n",
      "3                              0  \n",
      "4                              0  \n",
      "...                          ...  \n",
      "8531                           0  \n",
      "8532                           0  \n",
      "8533                           0  \n",
      "8534                           0  \n",
      "8535                           1  \n",
      "\n",
      "[8536 rows x 22 columns]\n"
     ]
    }
   ],
   "source": [
    "# transformar las variables estado y resultado_anterior utilizando one-hot encoding (ya estaban transformadas en el modelo)\n",
    "df_train_enc = pd.get_dummies(df_train_original, columns=[\"estado\", \"resultado_anterior\"])\n",
    "df_val_enc = pd.get_dummies(df_val_original, columns=[\"estado\", \"resultado_anterior\"])\n",
    "print(df_train_enc)\n",
    "print(df_val_enc)"
   ]
  },
  {
   "cell_type": "code",
   "execution_count": 75,
   "id": "b8a87c7c",
   "metadata": {},
   "outputs": [
    {
     "name": "stdout",
     "output_type": "stream",
     "text": [
      "Área bajo la curva (AUC) en el conjunto de validación: 0.80\n"
     ]
    }
   ],
   "source": [
    "# calcular el área bajo la curva (AUC) en el conjunto de validación\n",
    "X_val = df_val.drop(\"target\", axis=1)\n",
    "y_val = df_val[\"target\"]\n",
    "\n",
    "# Predice las probabilidades de clase para el conjunto de validación\n",
    "y_pred_proba = model.predict_proba(X_val)[:, 1]\n",
    "\n",
    "# Calcula el AUC en el conjunto de validación\n",
    "auc = roc_auc_score(y_val, y_pred_proba)\n",
    "\n",
    "# Imprime el resultado\n",
    "print(f\"Área bajo la curva (AUC) en el conjunto de validación: {auc:.2f}\")"
   ]
  },
  {
   "cell_type": "code",
   "execution_count": 76,
   "id": "8bc79c16",
   "metadata": {},
   "outputs": [
    {
     "name": "stdout",
     "output_type": "stream",
     "text": [
      "Mejor umbral: 0.99\n",
      "Balance máximo: 0\n"
     ]
    }
   ],
   "source": [
    "# Calcular las probabilidades predichas de venta para cada cliente en el conjunto de validación\n",
    "y_pred_proba = model.predict_proba(X_val)[:, 1]\n",
    "\n",
    "# Establecer el balance máximo inicial y el umbral\n",
    "max_balance = -float(\"inf\")\n",
    "best_limit = 0\n",
    "\n",
    "# Iterar sobre un rango de umbrales\n",
    "for limit in range(0, 100):\n",
    "    # Convertir las probabilidades en una predicción binaria utilizando el umbral\n",
    "    y_pred = (y_pred_proba >= limit / 100).astype(int)\n",
    "    \n",
    "    # Calcular el número de clientes contactados y el número de clientes que contrataron\n",
    "    n_contacts = y_pred.sum()\n",
    "    n_conversions = (y_pred == y_val).sum()\n",
    "    \n",
    "    # Calcular el balance para este umbral\n",
    "    balance = 100 * n_conversions - 1 * n_contacts\n",
    "    \n",
    "    # Actualizar el balance máximo y el umbral si es necesario\n",
    "    if balance > max_balance:\n",
    "        max_balance = balance\n",
    "        best_limit = threshold\n",
    "\n",
    "# Imprimir el mejor umbral y el balance máximo\n",
    "print(f\"Mejor umbral: {best_limit / 100}\")\n",
    "print(f\"Balance máximo: {max_balance}\")\n"
   ]
  }
 ],
 "metadata": {
  "kernelspec": {
   "display_name": "Python 3 (ipykernel)",
   "language": "python",
   "name": "python3"
  },
  "language_info": {
   "codemirror_mode": {
    "name": "ipython",
    "version": 3
   },
   "file_extension": ".py",
   "mimetype": "text/x-python",
   "name": "python",
   "nbconvert_exporter": "python",
   "pygments_lexer": "ipython3",
   "version": "3.10.7"
  }
 },
 "nbformat": 4,
 "nbformat_minor": 5
}
